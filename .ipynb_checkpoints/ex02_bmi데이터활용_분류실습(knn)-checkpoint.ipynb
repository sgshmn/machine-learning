{
 "cells": [
  {
   "cell_type": "markdown",
   "id": "36e28324",
   "metadata": {},
   "source": [
    "### 어제 내용\n",
    "- 머신러닝 : 기계가 스스로 학습하여 데이터의 패턴과 규칙을 찾아 예측하고 판단하는 것\n",
    "- 머신러닝 종류 : 지도학습, 비지도학습, 강화학습\n",
    "- 지도학습 : 문제 데이터와 답 데이터(label)을 가지고 학습\n",
    "    - 회귀 : 연속적인 숫자에 대해서 예측\n",
    "    - 분류 : 여러 클래스 레이블 중에 하나를 판단\n",
    "- 머신러닝 과정\n",
    "    - 1. 문제정의(목적) : 주제, 어떤 모델 사용, 분류vs회귀 등\n",
    "    - 2. 데이터 수집 : 크롤링, csv등 공공 포털 사이트 다운, db, 센서, 설문조사\n",
    "    - 3. 데이터 전처리 : 결측치 처리, 이상치 처리, 특성(각 컬러)공학\n",
    "    - 4. 탐색적 데이터 분석(eda) : 평균 분산 등 기술통계(기술하다의 기술), 변수간 상관관계(변수는 윗줄의 특성과 같은말)\n",
    "    - 5. 머신러닝 모델 정의 : 모델 생성, 하이퍼 파라미터 지정\n",
    "    - 6. 모델 학습 : fit\n",
    "    - 7. 모델 평가와 예측 : accuracy_score, 모델.score(), predict"
   ]
  },
  {
   "cell_type": "markdown",
   "id": "d04b14bd",
   "metadata": {},
   "source": [
    "### 목표\n",
    "- 문제정의\n",
    "  500명의 키, 몸무게, 비만도 라벨을 이용하여 비만을 판단하는 모델을 만들어보자."
   ]
  },
  {
   "cell_type": "markdown",
   "id": "7e568a7b",
   "metadata": {},
   "source": [
    "환경세팅"
   ]
  },
  {
   "cell_type": "code",
   "execution_count": 1,
   "id": "06422745",
   "metadata": {},
   "outputs": [],
   "source": [
    "import pandas as pd\n",
    "import matplotlib.pyplot as plt\n",
    "# 머신러닝 도구\n",
    "# sklearn : scikit - learn\n",
    "from sklearn.neighbors import KNeighborsClassifier # 분류 모델\n",
    "from sklearn.metrics import accuracy_score # 정확도 측정 도구"
   ]
  },
  {
   "cell_type": "markdown",
   "id": "0523773f",
   "metadata": {},
   "source": [
    "데이터 불러오기"
   ]
  },
  {
   "cell_type": "code",
   "execution_count": 2,
   "id": "7a3335e6",
   "metadata": {},
   "outputs": [
    {
     "data": {
      "text/html": [
       "<div>\n",
       "<style scoped>\n",
       "    .dataframe tbody tr th:only-of-type {\n",
       "        vertical-align: middle;\n",
       "    }\n",
       "\n",
       "    .dataframe tbody tr th {\n",
       "        vertical-align: top;\n",
       "    }\n",
       "\n",
       "    .dataframe thead th {\n",
       "        text-align: right;\n",
       "    }\n",
       "</style>\n",
       "<table border=\"1\" class=\"dataframe\">\n",
       "  <thead>\n",
       "    <tr style=\"text-align: right;\">\n",
       "      <th></th>\n",
       "      <th>Gender</th>\n",
       "      <th>Height</th>\n",
       "      <th>Weight</th>\n",
       "    </tr>\n",
       "    <tr>\n",
       "      <th>Label</th>\n",
       "      <th></th>\n",
       "      <th></th>\n",
       "      <th></th>\n",
       "    </tr>\n",
       "  </thead>\n",
       "  <tbody>\n",
       "    <tr>\n",
       "      <th>Obesity</th>\n",
       "      <td>Male</td>\n",
       "      <td>174</td>\n",
       "      <td>96</td>\n",
       "    </tr>\n",
       "    <tr>\n",
       "      <th>Normal</th>\n",
       "      <td>Male</td>\n",
       "      <td>189</td>\n",
       "      <td>87</td>\n",
       "    </tr>\n",
       "    <tr>\n",
       "      <th>Obesity</th>\n",
       "      <td>Female</td>\n",
       "      <td>185</td>\n",
       "      <td>110</td>\n",
       "    </tr>\n",
       "    <tr>\n",
       "      <th>Overweight</th>\n",
       "      <td>Female</td>\n",
       "      <td>195</td>\n",
       "      <td>104</td>\n",
       "    </tr>\n",
       "    <tr>\n",
       "      <th>Overweight</th>\n",
       "      <td>Male</td>\n",
       "      <td>149</td>\n",
       "      <td>61</td>\n",
       "    </tr>\n",
       "    <tr>\n",
       "      <th>...</th>\n",
       "      <td>...</td>\n",
       "      <td>...</td>\n",
       "      <td>...</td>\n",
       "    </tr>\n",
       "    <tr>\n",
       "      <th>Extreme Obesity</th>\n",
       "      <td>Female</td>\n",
       "      <td>150</td>\n",
       "      <td>153</td>\n",
       "    </tr>\n",
       "    <tr>\n",
       "      <th>Obesity</th>\n",
       "      <td>Female</td>\n",
       "      <td>184</td>\n",
       "      <td>121</td>\n",
       "    </tr>\n",
       "    <tr>\n",
       "      <th>Extreme Obesity</th>\n",
       "      <td>Female</td>\n",
       "      <td>141</td>\n",
       "      <td>136</td>\n",
       "    </tr>\n",
       "    <tr>\n",
       "      <th>Extreme Obesity</th>\n",
       "      <td>Male</td>\n",
       "      <td>150</td>\n",
       "      <td>95</td>\n",
       "    </tr>\n",
       "    <tr>\n",
       "      <th>Extreme Obesity</th>\n",
       "      <td>Male</td>\n",
       "      <td>173</td>\n",
       "      <td>131</td>\n",
       "    </tr>\n",
       "  </tbody>\n",
       "</table>\n",
       "<p>500 rows × 3 columns</p>\n",
       "</div>"
      ],
      "text/plain": [
       "                 Gender  Height  Weight\n",
       "Label                                  \n",
       "Obesity            Male     174      96\n",
       "Normal             Male     189      87\n",
       "Obesity          Female     185     110\n",
       "Overweight       Female     195     104\n",
       "Overweight         Male     149      61\n",
       "...                 ...     ...     ...\n",
       "Extreme Obesity  Female     150     153\n",
       "Obesity          Female     184     121\n",
       "Extreme Obesity  Female     141     136\n",
       "Extreme Obesity    Male     150      95\n",
       "Extreme Obesity    Male     173     131\n",
       "\n",
       "[500 rows x 3 columns]"
      ]
     },
     "execution_count": 2,
     "metadata": {},
     "output_type": "execute_result"
    }
   ],
   "source": [
    "# data 변수에 담아주기\n",
    "# 인덱스 값 = 'Label' 로 설정해서 불러오기\n",
    "# index_col = '컬럼'\n",
    "data = pd.read_csv('./data/bmi_500.csv', index_col='Label')\n",
    "data"
   ]
  },
  {
   "cell_type": "code",
   "execution_count": 3,
   "id": "d6b0cca0",
   "metadata": {},
   "outputs": [
    {
     "name": "stdout",
     "output_type": "stream",
     "text": [
      "<class 'pandas.core.frame.DataFrame'>\n",
      "Index: 500 entries, Obesity to Extreme Obesity\n",
      "Data columns (total 3 columns):\n",
      " #   Column  Non-Null Count  Dtype \n",
      "---  ------  --------------  ----- \n",
      " 0   Gender  500 non-null    object\n",
      " 1   Height  500 non-null    int64 \n",
      " 2   Weight  500 non-null    int64 \n",
      "dtypes: int64(2), object(1)\n",
      "memory usage: 15.6+ KB\n"
     ]
    }
   ],
   "source": [
    "# 데이터 정보 확인하기\n",
    "# 전체 행, 열 정보확인\n",
    "# 결측치 확인\n",
    "# 각 컬럼의 데이터 타입 확인\n",
    "\n",
    "data.info()\n",
    "# object 문자열\n",
    "# int64 정수"
   ]
  },
  {
   "cell_type": "markdown",
   "id": "369ccfa0",
   "metadata": {},
   "source": [
    "데이터 전처리 : pass"
   ]
  },
  {
   "cell_type": "markdown",
   "id": "f0d52cc5",
   "metadata": {},
   "source": [
    "탐색적 데이터 분석\n",
    "- 기술통계 확인\n",
    "- 시각화해서 Label분포 현황 확인"
   ]
  },
  {
   "cell_type": "code",
   "execution_count": 4,
   "id": "7b197ba9",
   "metadata": {},
   "outputs": [
    {
     "data": {
      "text/html": [
       "<div>\n",
       "<style scoped>\n",
       "    .dataframe tbody tr th:only-of-type {\n",
       "        vertical-align: middle;\n",
       "    }\n",
       "\n",
       "    .dataframe tbody tr th {\n",
       "        vertical-align: top;\n",
       "    }\n",
       "\n",
       "    .dataframe thead th {\n",
       "        text-align: right;\n",
       "    }\n",
       "</style>\n",
       "<table border=\"1\" class=\"dataframe\">\n",
       "  <thead>\n",
       "    <tr style=\"text-align: right;\">\n",
       "      <th></th>\n",
       "      <th>Height</th>\n",
       "      <th>Weight</th>\n",
       "    </tr>\n",
       "  </thead>\n",
       "  <tbody>\n",
       "    <tr>\n",
       "      <th>count</th>\n",
       "      <td>500.000000</td>\n",
       "      <td>500.000000</td>\n",
       "    </tr>\n",
       "    <tr>\n",
       "      <th>mean</th>\n",
       "      <td>169.944000</td>\n",
       "      <td>106.000000</td>\n",
       "    </tr>\n",
       "    <tr>\n",
       "      <th>std</th>\n",
       "      <td>16.375261</td>\n",
       "      <td>32.382607</td>\n",
       "    </tr>\n",
       "    <tr>\n",
       "      <th>min</th>\n",
       "      <td>140.000000</td>\n",
       "      <td>50.000000</td>\n",
       "    </tr>\n",
       "    <tr>\n",
       "      <th>25%</th>\n",
       "      <td>156.000000</td>\n",
       "      <td>80.000000</td>\n",
       "    </tr>\n",
       "    <tr>\n",
       "      <th>50%</th>\n",
       "      <td>170.500000</td>\n",
       "      <td>106.000000</td>\n",
       "    </tr>\n",
       "    <tr>\n",
       "      <th>75%</th>\n",
       "      <td>184.000000</td>\n",
       "      <td>136.000000</td>\n",
       "    </tr>\n",
       "    <tr>\n",
       "      <th>max</th>\n",
       "      <td>199.000000</td>\n",
       "      <td>160.000000</td>\n",
       "    </tr>\n",
       "  </tbody>\n",
       "</table>\n",
       "</div>"
      ],
      "text/plain": [
       "           Height      Weight\n",
       "count  500.000000  500.000000\n",
       "mean   169.944000  106.000000\n",
       "std     16.375261   32.382607\n",
       "min    140.000000   50.000000\n",
       "25%    156.000000   80.000000\n",
       "50%    170.500000  106.000000\n",
       "75%    184.000000  136.000000\n",
       "max    199.000000  160.000000"
      ]
     },
     "execution_count": 4,
     "metadata": {},
     "output_type": "execute_result"
    }
   ],
   "source": [
    "# data 기준으로 기술통계 보기\n",
    "data.describe()\n",
    "# gender가 없어졌네? 숫자가 아니라서!"
   ]
  },
  {
   "cell_type": "code",
   "execution_count": 5,
   "id": "21d77320",
   "metadata": {},
   "outputs": [
    {
     "data": {
      "text/plain": [
       "6"
      ]
     },
     "execution_count": 5,
     "metadata": {},
     "output_type": "execute_result"
    }
   ],
   "source": [
    "# 시각화 하기 전에 Label 컬럼 중복없이 값 확인\n",
    "data.index.unique().size"
   ]
  },
  {
   "cell_type": "code",
   "execution_count": 6,
   "id": "6bbaf80e",
   "metadata": {},
   "outputs": [
    {
     "data": {
      "text/plain": [
       "Index(['Obesity', 'Normal', 'Overweight', 'Extreme Obesity', 'Weak',\n",
       "       'Extremely Weak'],\n",
       "      dtype='object', name='Label')"
      ]
     },
     "execution_count": 6,
     "metadata": {},
     "output_type": "execute_result"
    }
   ],
   "source": [
    "data.index.unique()\n",
    "\n",
    "# Extreme Obesity 고도비만\n",
    "# Obesity 비만\n",
    "# Overweight 과체중\n",
    "# Normal 정상\n",
    "# Weak 저체중\n",
    "# Extremely Weak 극심한 저체중"
   ]
  },
  {
   "cell_type": "code",
   "execution_count": 7,
   "id": "44a7f21f",
   "metadata": {},
   "outputs": [
    {
     "data": {
      "text/plain": [
       "Extreme Obesity    198\n",
       "Obesity            130\n",
       "Normal              69\n",
       "Overweight          68\n",
       "Weak                22\n",
       "Extremely Weak      13\n",
       "Name: Label, dtype: int64"
      ]
     },
     "execution_count": 7,
     "metadata": {},
     "output_type": "execute_result"
    }
   ],
   "source": [
    "# 각각의 클래스의 값은 몇개씩 들어있을까?\n",
    "data.index.value_counts()"
   ]
  },
  {
   "cell_type": "code",
   "execution_count": 8,
   "id": "92668e9b",
   "metadata": {},
   "outputs": [
    {
     "data": {
      "image/png": "[encoded data removed]",
      "text/plain": [
       "<Figure size 432x288 with 1 Axes>"
      ]
     },
     "metadata": {
      "needs_background": "light"
     },
     "output_type": "display_data"
    }
   ],
   "source": [
    "# bmi 레이블별 분포 시각화\n",
    "# 1. Extremely Weak 산점도 시각화\n",
    "d = data.loc['Extremely Weak']# 행 인덱싱\n",
    "plt.scatter(d['Height'], d['Weight'], c='blue', label='ext weak')\n",
    "plt.legend() # 범례 표시\n",
    "plt.show() # 그래프 출력\n",
    "\n",
    "# Label 컬럼에 있을 때 특정 레이블 값에 접근하는 방법\n",
    "# 불리언 이용\n",
    "# data[data['Label'] == 'Extremely Weak']"
   ]
  },
  {
   "cell_type": "code",
   "execution_count": 9,
   "id": "ef3f87b9",
   "metadata": {},
   "outputs": [],
   "source": [
    "# 시각화 코드 집합 => 함수로 정의\n",
    "def bmi_draw(label, color):\n",
    "    d = data.loc[label]# 행 인덱싱\n",
    "    plt.scatter(d['Height'], d['Weight'], c=color, label=label)"
   ]
  },
  {
   "cell_type": "code",
   "execution_count": 10,
   "id": "488c9f90",
   "metadata": {},
   "outputs": [
    {
     "data": {
      "image/png": "[encoded data removed]",
      "text/plain": [
       "<Figure size 432x288 with 1 Axes>"
      ]
     },
     "metadata": {
      "needs_background": "light"
     },
     "output_type": "display_data"
    }
   ],
   "source": [
    "# Extreme Obesity 고도비만\n",
    "# Obesity 비만\n",
    "# Overweight 과체중\n",
    "# Normal 정상\n",
    "# Weak 저체중\n",
    "# Extremely Weak 극심한 저체중\n",
    "\n",
    "bmi_draw('Extremely Weak', 'blue')\n",
    "bmi_draw('Weak', 'cyan')\n",
    "bmi_draw('Normal', 'green')\n",
    "bmi_draw('Overweight', 'yellow')\n",
    "bmi_draw('Obesity', 'orange')\n",
    "bmi_draw('Extreme Obesity', 'red')\n",
    "\n",
    "# plt.legend()\n",
    "plt.show()"
   ]
  },
  {
   "cell_type": "markdown",
   "id": "e36b52b7",
   "metadata": {},
   "source": [
    "데이터 분리\n",
    "- 문제, 답 : X, y\n",
    "- 훈련, 테스트 데이터 : train, test"
   ]
  },
  {
   "cell_type": "code",
   "execution_count": 11,
   "id": "fd283556",
   "metadata": {},
   "outputs": [
    {
     "data": {
      "text/html": [
       "<div>\n",
       "<style scoped>\n",
       "    .dataframe tbody tr th:only-of-type {\n",
       "        vertical-align: middle;\n",
       "    }\n",
       "\n",
       "    .dataframe tbody tr th {\n",
       "        vertical-align: top;\n",
       "    }\n",
       "\n",
       "    .dataframe thead th {\n",
       "        text-align: right;\n",
       "    }\n",
       "</style>\n",
       "<table border=\"1\" class=\"dataframe\">\n",
       "  <thead>\n",
       "    <tr style=\"text-align: right;\">\n",
       "      <th></th>\n",
       "      <th>Gender</th>\n",
       "      <th>Height</th>\n",
       "      <th>Weight</th>\n",
       "      <th>Label</th>\n",
       "    </tr>\n",
       "  </thead>\n",
       "  <tbody>\n",
       "    <tr>\n",
       "      <th>0</th>\n",
       "      <td>Male</td>\n",
       "      <td>174</td>\n",
       "      <td>96</td>\n",
       "      <td>Obesity</td>\n",
       "    </tr>\n",
       "    <tr>\n",
       "      <th>1</th>\n",
       "      <td>Male</td>\n",
       "      <td>189</td>\n",
       "      <td>87</td>\n",
       "      <td>Normal</td>\n",
       "    </tr>\n",
       "    <tr>\n",
       "      <th>2</th>\n",
       "      <td>Female</td>\n",
       "      <td>185</td>\n",
       "      <td>110</td>\n",
       "      <td>Obesity</td>\n",
       "    </tr>\n",
       "  </tbody>\n",
       "</table>\n",
       "</div>"
      ],
      "text/plain": [
       "   Gender  Height  Weight    Label\n",
       "0    Male     174      96  Obesity\n",
       "1    Male     189      87   Normal\n",
       "2  Female     185     110  Obesity"
      ]
     },
     "execution_count": 11,
     "metadata": {},
     "output_type": "execute_result"
    }
   ],
   "source": [
    "data = pd.read_csv('data/bmi_500.csv')\n",
    "data.head(3)"
   ]
  },
  {
   "cell_type": "code",
   "execution_count": 12,
   "id": "cdcacf82",
   "metadata": {},
   "outputs": [
    {
     "name": "stdout",
     "output_type": "stream",
     "text": [
      "(500, 2)\n",
      "(500,)\n"
     ]
    }
   ],
   "source": [
    "# 대상['열'] , 여러 컬럼 인덱싱 -> 대상[['컬1', '컬2']]\n",
    "# 대상.loc[행, 열]\n",
    "# 대상.iloc[행, 열]\n",
    "X = data[['Height', 'Weight']]    # 문제 컬럼 인덱싱 (2개: 키, 몸무게)\n",
    "y = data['Label'] # 답 데이터 인덱싱 ()\n",
    "\n",
    "# data.loc[:, ['Height','Weight']]\n",
    "# data.loc[:, 'Height':'Weight']\n",
    "# data.iloc[:, [1,2]]\n",
    "# data.iloc[:, 1:3]\n",
    "\n",
    "\n",
    "print(X.shape)\n",
    "print(y.shape)"
   ]
  },
  {
   "cell_type": "code",
   "execution_count": 13,
   "id": "08d5e972",
   "metadata": {},
   "outputs": [
    {
     "name": "stdout",
     "output_type": "stream",
     "text": [
      "훈련용 문제: (350, 2)\n",
      "훈련용 답: (350,)\n",
      "테스트용 문제: (150, 2)\n",
      "테스트용 답: (150,)\n"
     ]
    }
   ],
   "source": [
    "# 훈련셋\n",
    "# 0 ~ 349 인덱싱\n",
    "X_train = X[:350]\n",
    "y_train = y[:350]\n",
    "\n",
    "\n",
    "# 테스트셋\n",
    "# 350 ~ 499\n",
    "X_test = X[350:]\n",
    "y_test = y[350:]\n",
    "\n",
    "print('훈련용 문제:', X_train.shape)\n",
    "print('훈련용 답:', y_train.shape)\n",
    "print('테스트용 문제:', X_test.shape)\n",
    "print('테스트용 답:', y_test.shape)"
   ]
  },
  {
   "cell_type": "markdown",
   "id": "f79a43a7",
   "metadata": {},
   "source": [
    "모델링\n",
    "- 1. 모델 정의하고 하이퍼 파라미터 지정\n",
    "- 2. 모델 학습\n",
    "- 3. 모델 예측과 평가"
   ]
  },
  {
   "cell_type": "code",
   "execution_count": 14,
   "id": "90109d95",
   "metadata": {},
   "outputs": [],
   "source": [
    "knn_model = KNeighborsClassifier()\n",
    "knn_model.fit(X_train, y_train)\n",
    "\n",
    "pre = knn_model.predict(X_test)"
   ]
  },
  {
   "cell_type": "code",
   "execution_count": 15,
   "id": "7909b869",
   "metadata": {},
   "outputs": [
    {
     "data": {
      "text/plain": [
       "0.9066666666666666"
      ]
     },
     "execution_count": 15,
     "metadata": {},
     "output_type": "execute_result"
    }
   ],
   "source": [
    "knn_model.score(X_test, y_test)"
   ]
  },
  {
   "cell_type": "code",
   "execution_count": 16,
   "id": "f1056b6a",
   "metadata": {},
   "outputs": [
    {
     "data": {
      "text/plain": [
       "0.9066666666666666"
      ]
     },
     "execution_count": 16,
     "metadata": {},
     "output_type": "execute_result"
    }
   ],
   "source": [
    "accuracy_score(y_test, pre)"
   ]
  },
  {
   "cell_type": "code",
   "execution_count": 17,
   "id": "1670bfd7",
   "metadata": {},
   "outputs": [
    {
     "name": "stdout",
     "output_type": "stream",
     "text": [
      "1\n",
      "0.8933333333333333\n",
      "2\n",
      "0.8933333333333333\n",
      "3\n",
      "0.9\n",
      "4\n",
      "0.8933333333333333\n",
      "5\n",
      "0.9066666666666666\n",
      "6\n",
      "0.9133333333333333\n",
      "7\n",
      "0.9\n",
      "8\n",
      "0.9133333333333333\n",
      "9\n",
      "0.9133333333333333\n",
      "10\n",
      "0.94\n",
      "11\n",
      "0.8866666666666667\n",
      "12\n",
      "0.9133333333333333\n",
      "13\n",
      "0.9133333333333333\n",
      "14\n",
      "0.8866666666666667\n"
     ]
    }
   ],
   "source": [
    "for i in range(1, 15):\n",
    "    knn_model = KNeighborsClassifier(n_neighbors=i)\n",
    "    knn_model.fit(X_train, y_train)\n",
    "\n",
    "    a = knn_model.score(X_test, y_test)\n",
    "\n",
    "    print(i)\n",
    "    print(a)\n",
    "    "
   ]
  },
  {
   "cell_type": "code",
   "execution_count": null,
   "id": "0f060714",
   "metadata": {},
   "outputs": [],
   "source": []
  }
 ],
 "metadata": {
  "kernelspec": {
   "display_name": "Python 3 (ipykernel)",
   "language": "python",
   "name": "python3"
  },
  "language_info": {
   "codemirror_mode": {
    "name": "ipython",
    "version": 3
   },
   "file_extension": ".py",
   "mimetype": "text/x-python",
   "name": "python",
   "nbconvert_exporter": "python",
   "pygments_lexer": "ipython3",
   "version": "3.9.12"
  }
 },
 "nbformat": 4,
 "nbformat_minor": 5
}
