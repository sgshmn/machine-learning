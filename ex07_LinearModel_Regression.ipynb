{
 "cells": [
  {
   "cell_type": "markdown",
   "id": "f6edc04c",
   "metadata": {},
   "source": [
    "### 목표\n",
    "- LinearRegression 사용하기\n",
    "- 선형회귀 이해하기\n",
    "- a(w 가중치), b(절편) 갱신하는 이론을 이해하고 실습하기"
   ]
  },
  {
   "cell_type": "code",
   "execution_count": 49,
   "id": "1030b476",
   "metadata": {},
   "outputs": [],
   "source": [
    "import numpy as np\n",
    "import pandas as pd\n",
    "import matplotlib.pyplot as plt"
   ]
  },
  {
   "cell_type": "markdown",
   "id": "181ba8f4",
   "metadata": {},
   "source": [
    "#### 성적데이터 생성"
   ]
  },
  {
   "cell_type": "code",
   "execution_count": 50,
   "id": "caf6be61",
   "metadata": {},
   "outputs": [
    {
     "data": {
      "text/html": [
       "<div>\n",
       "<style scoped>\n",
       "    .dataframe tbody tr th:only-of-type {\n",
       "        vertical-align: middle;\n",
       "    }\n",
       "\n",
       "    .dataframe tbody tr th {\n",
       "        vertical-align: top;\n",
       "    }\n",
       "\n",
       "    .dataframe thead th {\n",
       "        text-align: right;\n",
       "    }\n",
       "</style>\n",
       "<table border=\"1\" class=\"dataframe\">\n",
       "  <thead>\n",
       "    <tr style=\"text-align: right;\">\n",
       "      <th></th>\n",
       "      <th>시간</th>\n",
       "      <th>성적</th>\n",
       "    </tr>\n",
       "  </thead>\n",
       "  <tbody>\n",
       "    <tr>\n",
       "      <th>승재</th>\n",
       "      <td>2</td>\n",
       "      <td>20</td>\n",
       "    </tr>\n",
       "    <tr>\n",
       "      <th>동주</th>\n",
       "      <td>4</td>\n",
       "      <td>40</td>\n",
       "    </tr>\n",
       "    <tr>\n",
       "      <th>건도</th>\n",
       "      <td>8</td>\n",
       "      <td>80</td>\n",
       "    </tr>\n",
       "    <tr>\n",
       "      <th>경령</th>\n",
       "      <td>9</td>\n",
       "      <td>90</td>\n",
       "    </tr>\n",
       "  </tbody>\n",
       "</table>\n",
       "</div>"
      ],
      "text/plain": [
       "    시간  성적\n",
       "승재   2  20\n",
       "동주   4  40\n",
       "건도   8  80\n",
       "경령   9  90"
      ]
     },
     "execution_count": 50,
     "metadata": {},
     "output_type": "execute_result"
    }
   ],
   "source": [
    "data = pd.DataFrame([[2, 20], [4, 40], [8, 80], [9, 90]], index=['승재', '동주', '건도', '경령'], columns=['시간', '성적'])\n",
    "data"
   ]
  },
  {
   "cell_type": "markdown",
   "id": "88f4b196",
   "metadata": {},
   "source": [
    "#### LinearRegression\n",
    "- 수학 공식을 이용한 해석적 모델"
   ]
  },
  {
   "cell_type": "code",
   "execution_count": 51,
   "id": "9af42cd4",
   "metadata": {},
   "outputs": [],
   "source": [
    "from sklearn.linear_model import LinearRegression"
   ]
  },
  {
   "cell_type": "code",
   "execution_count": 52,
   "id": "cb9171e8",
   "metadata": {},
   "outputs": [],
   "source": [
    "# 모델 생성\n",
    "linear_model = LinearRegression()\n",
    "\n",
    "# 과대적합 제어하는 하이퍼 파라미터 없당"
   ]
  },
  {
   "cell_type": "code",
   "execution_count": 53,
   "id": "1fba9d8d",
   "metadata": {},
   "outputs": [
    {
     "data": {
      "text/html": [
       "<div>\n",
       "<style scoped>\n",
       "    .dataframe tbody tr th:only-of-type {\n",
       "        vertical-align: middle;\n",
       "    }\n",
       "\n",
       "    .dataframe tbody tr th {\n",
       "        vertical-align: top;\n",
       "    }\n",
       "\n",
       "    .dataframe thead th {\n",
       "        text-align: right;\n",
       "    }\n",
       "</style>\n",
       "<table border=\"1\" class=\"dataframe\">\n",
       "  <thead>\n",
       "    <tr style=\"text-align: right;\">\n",
       "      <th></th>\n",
       "      <th>시간</th>\n",
       "    </tr>\n",
       "  </thead>\n",
       "  <tbody>\n",
       "    <tr>\n",
       "      <th>승재</th>\n",
       "      <td>2</td>\n",
       "    </tr>\n",
       "    <tr>\n",
       "      <th>동주</th>\n",
       "      <td>4</td>\n",
       "    </tr>\n",
       "    <tr>\n",
       "      <th>건도</th>\n",
       "      <td>8</td>\n",
       "    </tr>\n",
       "    <tr>\n",
       "      <th>경령</th>\n",
       "      <td>9</td>\n",
       "    </tr>\n",
       "  </tbody>\n",
       "</table>\n",
       "</div>"
      ],
      "text/plain": [
       "    시간\n",
       "승재   2\n",
       "동주   4\n",
       "건도   8\n",
       "경령   9"
      ]
     },
     "metadata": {},
     "output_type": "display_data"
    },
    {
     "data": {
      "text/plain": [
       "승재    2\n",
       "동주    4\n",
       "건도    8\n",
       "경령    9\n",
       "Name: 시간, dtype: int64"
      ]
     },
     "metadata": {},
     "output_type": "display_data"
    }
   ],
   "source": [
    "display(data[['시간']]) # DataFrame\n",
    "display(data['시간']) # series"
   ]
  },
  {
   "cell_type": "code",
   "execution_count": 54,
   "id": "aebf06c4",
   "metadata": {},
   "outputs": [
    {
     "data": {
      "text/plain": [
       "LinearRegression()"
      ]
     },
     "execution_count": 54,
     "metadata": {},
     "output_type": "execute_result"
    }
   ],
   "source": [
    "# 모델 학습\n",
    "# data 시간 -> 문제   지금 문제의 특성이 1개라도 2차원으로 집어넣어야 한다 Series가 아니라 DataFrame으로 넣어야한다\n",
    "# data 성적 -> 답\n",
    "\n",
    "linear_model.fit(data[['시간']], data['성적'])"
   ]
  },
  {
   "cell_type": "code",
   "execution_count": 55,
   "id": "95289546",
   "metadata": {},
   "outputs": [],
   "source": [
    "# 경고창 warning 무시하기\n",
    "import warnings\n",
    "warnings.filterwarnings(action='ignore')\n",
    "# 필요하면 쓰자\n",
    "# 경고하는 이유가 있을 테니까"
   ]
  },
  {
   "cell_type": "code",
   "execution_count": 56,
   "id": "52a91f01",
   "metadata": {},
   "outputs": [
    {
     "data": {
      "text/plain": [
       "array([70.])"
      ]
     },
     "execution_count": 56,
     "metadata": {},
     "output_type": "execute_result"
    }
   ],
   "source": [
    "# y = wx + b\n",
    "# 모델 예측\n",
    "linear_model.predict([[7]])"
   ]
  },
  {
   "cell_type": "code",
   "execution_count": 57,
   "id": "d7735e3b",
   "metadata": {},
   "outputs": [
    {
     "name": "stdout",
     "output_type": "stream",
     "text": [
      "가중치: [10.]\n",
      "절편: 7.105427357601002e-15\n"
     ]
    }
   ],
   "source": [
    "# 가중치, 절편 값 확인\n",
    "print('가중치:', linear_model.coef_)\n",
    "print('절편:', linear_model.intercept_) # 0 ?\n",
    "# 7.105427357601002e-15 0 이나 마찬가지\n",
    "# 실수의 과학적 표기법?"
   ]
  },
  {
   "cell_type": "markdown",
   "id": "8bd0df4e",
   "metadata": {},
   "source": [
    "#### 경사하강법\n",
    "- 가중치(w)에 따른 비용함수(cost:mse)의 변화 그래프?"
   ]
  },
  {
   "cell_type": "code",
   "execution_count": 58,
   "id": "d41a689d",
   "metadata": {},
   "outputs": [],
   "source": [
    "# 가설 a, b 셋팅 y = ax + b\n",
    "def h(w, x):\n",
    "    return w*x + 0 # w값이 계속 변화. b는 매개변수로 받지 않고 0으로 고정하고 생각해보자. 일단은"
   ]
  },
  {
   "cell_type": "code",
   "execution_count": 59,
   "id": "a00e0125",
   "metadata": {},
   "outputs": [],
   "source": [
    "# MSE : 평균제곱오차 구하는 함수 정의\n",
    "def cost(data, target, weight):\n",
    "    y_pre = h(weight, data)\n",
    "    # 평균제곱오차\n",
    "    mse = ((y_pre - target)**2).mean()\n",
    "    return mse"
   ]
  },
  {
   "cell_type": "code",
   "execution_count": 60,
   "id": "5bce9b49",
   "metadata": {},
   "outputs": [
    {
     "data": {
      "text/plain": [
       "0.0"
      ]
     },
     "execution_count": 60,
     "metadata": {},
     "output_type": "execute_result"
    }
   ],
   "source": [
    "# cost 호출 -> 오차 확인\n",
    "# 1 w = 10\n",
    "\n",
    "cost(data['시간'], data['성적'], 10)"
   ]
  },
  {
   "cell_type": "code",
   "execution_count": 61,
   "id": "46779222",
   "metadata": {},
   "outputs": [
    {
     "data": {
      "text/plain": [
       "4125.0"
      ]
     },
     "execution_count": 61,
     "metadata": {},
     "output_type": "execute_result"
    }
   ],
   "source": [
    "cost(data['시간'], data['성적'], 20)"
   ]
  },
  {
   "cell_type": "code",
   "execution_count": 62,
   "id": "804b025e",
   "metadata": {},
   "outputs": [
    {
     "data": {
      "text/plain": [
       "16500.0"
      ]
     },
     "execution_count": 62,
     "metadata": {},
     "output_type": "execute_result"
    }
   ],
   "source": [
    "cost(data['시간'], data['성적'], 30)"
   ]
  },
  {
   "cell_type": "code",
   "execution_count": 63,
   "id": "1f68b82a",
   "metadata": {},
   "outputs": [
    {
     "data": {
      "text/plain": [
       "1031.25"
      ]
     },
     "execution_count": 63,
     "metadata": {},
     "output_type": "execute_result"
    }
   ],
   "source": [
    "cost(data['시간'], data['성적'], 5)"
   ]
  },
  {
   "cell_type": "code",
   "execution_count": 64,
   "id": "2aeb00e6",
   "metadata": {},
   "outputs": [
    {
     "data": {
      "text/plain": [
       "4125.0"
      ]
     },
     "execution_count": 64,
     "metadata": {},
     "output_type": "execute_result"
    }
   ],
   "source": [
    "cost(data['시간'], data['성적'], 0)"
   ]
  },
  {
   "cell_type": "code",
   "execution_count": 65,
   "id": "2e206dc3",
   "metadata": {},
   "outputs": [],
   "source": [
    "# 최적의 a, b를 찾아야 한다\n",
    "# 오차가 적을 때가 최적이다\n",
    "# 경사 하강법 : a, b를 오차가 작아지는 방향으로 갱신하는 방법"
   ]
  },
  {
   "cell_type": "code",
   "execution_count": 66,
   "id": "f2a47fc0",
   "metadata": {},
   "outputs": [
    {
     "data": {
      "text/plain": [
       "[16500.0,\n",
       " 14891.25,\n",
       " 13365.0,\n",
       " 11921.25,\n",
       " 10560.0,\n",
       " 9281.25,\n",
       " 8085.0,\n",
       " 6971.25,\n",
       " 5940.0,\n",
       " 4991.25,\n",
       " 4125.0,\n",
       " 3341.25,\n",
       " 2640.0,\n",
       " 2021.25,\n",
       " 1485.0,\n",
       " 1031.25,\n",
       " 660.0,\n",
       " 371.25,\n",
       " 165.0,\n",
       " 41.25,\n",
       " 0.0,\n",
       " 41.25,\n",
       " 165.0,\n",
       " 371.25,\n",
       " 660.0,\n",
       " 1031.25,\n",
       " 1485.0,\n",
       " 2021.25,\n",
       " 2640.0,\n",
       " 3341.25,\n",
       " 4125.0,\n",
       " 4991.25,\n",
       " 5940.0,\n",
       " 6971.25,\n",
       " 8085.0,\n",
       " 9281.25,\n",
       " 10560.0,\n",
       " 11921.25,\n",
       " 13365.0,\n",
       " 14891.25,\n",
       " 16500.0]"
      ]
     },
     "execution_count": 66,
     "metadata": {},
     "output_type": "execute_result"
    }
   ],
   "source": [
    "weight_range = range(-10, 31)\n",
    "\n",
    "# for문 돌려서 w에 따른 오차 출력\n",
    "cost_list = [] # 오차 저장하는 리스트\n",
    "for w in weight_range:\n",
    "    mse = cost(data['시간'], data['성적'], w)\n",
    "    cost_list.append(mse)\n",
    "cost_list"
   ]
  },
  {
   "cell_type": "code",
   "execution_count": 67,
   "id": "70096632",
   "metadata": {},
   "outputs": [
    {
     "data": {
      "image/png": "[encoded data removed]",
      "text/plain": [
       "<Figure size 432x288 with 1 Axes>"
      ]
     },
     "metadata": {
      "needs_background": "light"
     },
     "output_type": "display_data"
    }
   ],
   "source": [
    "# x : 가중치 범위\n",
    "# y : 오차\n",
    "plt.plot(weight_range, cost_list)\n",
    "\n",
    "plt.xlabel('wieght')\n",
    "plt.ylabel('mse:err')\n",
    "plt.show()"
   ]
  },
  {
   "cell_type": "markdown",
   "id": "25a1de83",
   "metadata": {},
   "source": [
    "#### SGDRegressor 사용하기\n",
    "- 경사하강을 적용한 모델"
   ]
  },
  {
   "cell_type": "code",
   "execution_count": 68,
   "id": "2094c9b6",
   "metadata": {},
   "outputs": [],
   "source": [
    "from sklearn.linear_model import SGDRegressor # 경사하강을 적용한 회귀 모델"
   ]
  },
  {
   "cell_type": "code",
   "execution_count": 123,
   "id": "7a88e155",
   "metadata": {},
   "outputs": [],
   "source": [
    "sgd_model = SGDRegressor(max_iter=5000, # 가중치 업데이트 반복 횟수\n",
    "                         eta0 = 0.074, # 학습률 learning rate 갱신 변동 폭\n",
    "                         verbose=1,\n",
    "                        random_state=213) # 학습과정 확인. 안보고 싶으면 0"
   ]
  },
  {
   "cell_type": "code",
   "execution_count": 124,
   "id": "3d6a2b57",
   "metadata": {
    "collapsed": true
   },
   "outputs": [
    {
     "name": "stdout",
     "output_type": "stream",
     "text": [
      "-- Epoch 1\n",
      "Norm: 6.95, NNZs: 1, Bias: -0.381670, T: 4, Avg. loss: 1357.904934\n",
      "Total training time: 0.00 seconds.\n",
      "-- Epoch 2\n",
      "Norm: 7.32, NNZs: 1, Bias: 0.184609, T: 8, Avg. loss: 29.716354\n",
      "Total training time: 0.00 seconds.\n",
      "-- Epoch 3\n",
      "Norm: 7.44, NNZs: 1, Bias: 0.101607, T: 12, Avg. loss: 84.382568\n",
      "Total training time: 0.00 seconds.\n",
      "-- Epoch 4\n",
      "Norm: 7.60, NNZs: 1, Bias: 0.475493, T: 16, Avg. loss: 30.657867\n",
      "Total training time: 0.00 seconds.\n",
      "-- Epoch 5\n",
      "Norm: 8.05, NNZs: 1, Bias: 0.489726, T: 20, Avg. loss: 61.109703\n",
      "Total training time: 0.00 seconds.\n",
      "-- Epoch 6\n",
      "Norm: 8.36, NNZs: 1, Bias: 0.757497, T: 24, Avg. loss: 18.979967\n",
      "Total training time: 0.00 seconds.\n",
      "-- Epoch 7\n",
      "Norm: 8.89, NNZs: 1, Bias: 0.798676, T: 28, Avg. loss: 25.379805\n",
      "Total training time: 0.00 seconds.\n",
      "-- Epoch 8\n",
      "Norm: 9.13, NNZs: 1, Bias: 0.930603, T: 32, Avg. loss: 5.978402\n",
      "Total training time: 0.00 seconds.\n",
      "-- Epoch 9\n",
      "Norm: 9.51, NNZs: 1, Bias: 0.954789, T: 36, Avg. loss: 6.133876\n",
      "Total training time: 0.00 seconds.\n",
      "-- Epoch 10\n",
      "Norm: 9.59, NNZs: 1, Bias: 0.987704, T: 40, Avg. loss: 1.085200\n",
      "Total training time: 0.00 seconds.\n",
      "-- Epoch 11\n",
      "Norm: 9.80, NNZs: 1, Bias: 0.990437, T: 44, Avg. loss: 1.078050\n",
      "Total training time: 0.00 seconds.\n",
      "-- Epoch 12\n",
      "Norm: 9.78, NNZs: 1, Bias: 0.976847, T: 48, Avg. loss: 0.217636\n",
      "Total training time: 0.00 seconds.\n",
      "-- Epoch 13\n",
      "Norm: 9.91, NNZs: 1, Bias: 0.968249, T: 52, Avg. loss: 0.267454\n",
      "Total training time: 0.00 seconds.\n",
      "-- Epoch 14\n",
      "Norm: 9.85, NNZs: 1, Bias: 0.940294, T: 56, Avg. loss: 0.141030\n",
      "Total training time: 0.00 seconds.\n",
      "-- Epoch 15\n",
      "Norm: 9.94, NNZs: 1, Bias: 0.928033, T: 60, Avg. loss: 0.155458\n",
      "Total training time: 0.00 seconds.\n",
      "-- Epoch 16\n",
      "Norm: 9.88, NNZs: 1, Bias: 0.898266, T: 64, Avg. loss: 0.131028\n",
      "Total training time: 0.00 seconds.\n",
      "-- Epoch 17\n",
      "Norm: 9.95, NNZs: 1, Bias: 0.885462, T: 68, Avg. loss: 0.128103\n",
      "Total training time: 0.00 seconds.\n",
      "-- Epoch 18\n",
      "Norm: 9.89, NNZs: 1, Bias: 0.857286, T: 72, Avg. loss: 0.119504\n",
      "Total training time: 0.00 seconds.\n",
      "-- Epoch 19\n",
      "Norm: 9.95, NNZs: 1, Bias: 0.844815, T: 76, Avg. loss: 0.112702\n",
      "Total training time: 0.00 seconds.\n",
      "-- Epoch 20\n",
      "Norm: 9.90, NNZs: 1, Bias: 0.818774, T: 80, Avg. loss: 0.107700\n",
      "Total training time: 0.00 seconds.\n",
      "-- Epoch 21\n",
      "Norm: 9.95, NNZs: 1, Bias: 0.806817, T: 84, Avg. loss: 0.100778\n",
      "Total training time: 0.00 seconds.\n",
      "-- Epoch 22\n",
      "Norm: 9.91, NNZs: 1, Bias: 0.782802, T: 88, Avg. loss: 0.097024\n",
      "Total training time: 0.00 seconds.\n",
      "-- Epoch 23\n",
      "Norm: 9.95, NNZs: 1, Bias: 0.771373, T: 92, Avg. loss: 0.090810\n",
      "Total training time: 0.00 seconds.\n",
      "-- Epoch 24\n",
      "Norm: 9.91, NNZs: 1, Bias: 0.749179, T: 96, Avg. loss: 0.087616\n",
      "Total training time: 0.00 seconds.\n",
      "-- Epoch 25\n",
      "Norm: 9.95, NNZs: 1, Bias: 0.738260, T: 100, Avg. loss: 0.082251\n",
      "Total training time: 0.00 seconds.\n",
      "-- Epoch 26\n",
      "Norm: 9.92, NNZs: 1, Bias: 0.717689, T: 104, Avg. loss: 0.079342\n",
      "Total training time: 0.00 seconds.\n",
      "-- Epoch 27\n",
      "Norm: 9.95, NNZs: 1, Bias: 0.707254, T: 108, Avg. loss: 0.074792\n",
      "Total training time: 0.00 seconds.\n",
      "-- Epoch 28\n",
      "Norm: 9.92, NNZs: 1, Bias: 0.688135, T: 112, Avg. loss: 0.072045\n",
      "Total training time: 0.00 seconds.\n",
      "-- Epoch 29\n",
      "Norm: 9.95, NNZs: 1, Bias: 0.678158, T: 116, Avg. loss: 0.068226\n",
      "Total training time: 0.00 seconds.\n",
      "-- Epoch 30\n",
      "Norm: 9.93, NNZs: 1, Bias: 0.660341, T: 120, Avg. loss: 0.065585\n",
      "Total training time: 0.00 seconds.\n",
      "-- Epoch 31\n",
      "Norm: 9.96, NNZs: 1, Bias: 0.650796, T: 124, Avg. loss: 0.062404\n",
      "Total training time: 0.00 seconds.\n",
      "-- Epoch 32\n",
      "Norm: 9.93, NNZs: 1, Bias: 0.634152, T: 128, Avg. loss: 0.059844\n",
      "Total training time: 0.00 seconds.\n",
      "-- Epoch 33\n",
      "Norm: 9.96, NNZs: 1, Bias: 0.625015, T: 132, Avg. loss: 0.057210\n",
      "Total training time: 0.00 seconds.\n",
      "-- Epoch 34\n",
      "Norm: 9.93, NNZs: 1, Bias: 0.609432, T: 136, Avg. loss: 0.054724\n",
      "Total training time: 0.00 seconds.\n",
      "-- Epoch 35\n",
      "Norm: 9.96, NNZs: 1, Bias: 0.600680, T: 140, Avg. loss: 0.052555\n",
      "Total training time: 0.00 seconds.\n",
      "-- Epoch 36\n",
      "Norm: 9.94, NNZs: 1, Bias: 0.586060, T: 144, Avg. loss: 0.050142\n",
      "Total training time: 0.00 seconds.\n",
      "-- Epoch 37\n",
      "Norm: 9.96, NNZs: 1, Bias: 0.577673, T: 148, Avg. loss: 0.048367\n",
      "Total training time: 0.00 seconds.\n",
      "-- Epoch 38\n",
      "Norm: 9.94, NNZs: 1, Bias: 0.563930, T: 152, Avg. loss: 0.046029\n",
      "Total training time: 0.00 seconds.\n",
      "-- Epoch 39\n",
      "Norm: 9.96, NNZs: 1, Bias: 0.555888, T: 156, Avg. loss: 0.044585\n",
      "Total training time: 0.00 seconds.\n",
      "-- Epoch 40\n",
      "Norm: 9.94, NNZs: 1, Bias: 0.542948, T: 160, Avg. loss: 0.042325\n",
      "Total training time: 0.00 seconds.\n",
      "-- Epoch 41\n",
      "Norm: 9.96, NNZs: 1, Bias: 0.535232, T: 164, Avg. loss: 0.041160\n",
      "Total training time: 0.00 seconds.\n",
      "-- Epoch 42\n",
      "Norm: 9.94, NNZs: 1, Bias: 0.523027, T: 168, Avg. loss: 0.038981\n",
      "Total training time: 0.00 seconds.\n",
      "-- Epoch 43\n",
      "Norm: 9.96, NNZs: 1, Bias: 0.515620, T: 172, Avg. loss: 0.038050\n",
      "Total training time: 0.00 seconds.\n",
      "-- Epoch 44\n",
      "Norm: 9.94, NNZs: 1, Bias: 0.504093, T: 176, Avg. loss: 0.035954\n",
      "Total training time: 0.00 seconds.\n",
      "-- Epoch 45\n",
      "Norm: 9.96, NNZs: 1, Bias: 0.496978, T: 180, Avg. loss: 0.035219\n",
      "Total training time: 0.00 seconds.\n",
      "-- Epoch 46\n",
      "Norm: 9.95, NNZs: 1, Bias: 0.486076, T: 184, Avg. loss: 0.033208\n",
      "Total training time: 0.00 seconds.\n",
      "-- Epoch 47\n",
      "Norm: 9.96, NNZs: 1, Bias: 0.479239, T: 188, Avg. loss: 0.032638\n",
      "Total training time: 0.00 seconds.\n",
      "-- Epoch 48\n",
      "Norm: 9.95, NNZs: 1, Bias: 0.468915, T: 192, Avg. loss: 0.030711\n",
      "Total training time: 0.00 seconds.\n",
      "-- Epoch 49\n",
      "Norm: 9.96, NNZs: 1, Bias: 0.462342, T: 196, Avg. loss: 0.030278\n",
      "Total training time: 0.00 seconds.\n",
      "-- Epoch 50\n",
      "Norm: 9.95, NNZs: 1, Bias: 0.452552, T: 200, Avg. loss: 0.028436\n",
      "Total training time: 0.00 seconds.\n",
      "-- Epoch 51\n",
      "Norm: 9.96, NNZs: 1, Bias: 0.446231, T: 204, Avg. loss: 0.028118\n",
      "Total training time: 0.00 seconds.\n",
      "-- Epoch 52\n",
      "Norm: 9.95, NNZs: 1, Bias: 0.436938, T: 208, Avg. loss: 0.026360\n",
      "Total training time: 0.00 seconds.\n",
      "-- Epoch 53\n",
      "Norm: 9.97, NNZs: 1, Bias: 0.430856, T: 212, Avg. loss: 0.026137\n",
      "Total training time: 0.00 seconds.\n",
      "-- Epoch 54\n",
      "Norm: 9.95, NNZs: 1, Bias: 0.422026, T: 216, Avg. loss: 0.024461\n",
      "Total training time: 0.00 seconds.\n",
      "-- Epoch 55\n",
      "Norm: 9.97, NNZs: 1, Bias: 0.416170, T: 220, Avg. loss: 0.024318\n",
      "Total training time: 0.00 seconds.\n",
      "-- Epoch 56\n",
      "Norm: 9.96, NNZs: 1, Bias: 0.407772, T: 224, Avg. loss: 0.022722\n",
      "Total training time: 0.00 seconds.\n",
      "-- Epoch 57\n",
      "Norm: 9.97, NNZs: 1, Bias: 0.402133, T: 228, Avg. loss: 0.022645\n",
      "Total training time: 0.00 seconds.\n",
      "-- Epoch 58\n",
      "Norm: 9.96, NNZs: 1, Bias: 0.394138, T: 232, Avg. loss: 0.021127\n",
      "Total training time: 0.00 seconds.\n",
      "-- Epoch 59\n",
      "Norm: 9.97, NNZs: 1, Bias: 0.388706, T: 236, Avg. loss: 0.021104\n",
      "Total training time: 0.00 seconds.\n",
      "-- Epoch 60\n",
      "Norm: 9.96, NNZs: 1, Bias: 0.381087, T: 240, Avg. loss: 0.019661\n",
      "Total training time: 0.00 seconds.\n",
      "-- Epoch 61\n",
      "Norm: 9.97, NNZs: 1, Bias: 0.375852, T: 244, Avg. loss: 0.019684\n",
      "Total training time: 0.00 seconds.\n",
      "-- Epoch 62\n",
      "Norm: 9.96, NNZs: 1, Bias: 0.368587, T: 248, Avg. loss: 0.018313\n",
      "Total training time: 0.00 seconds.\n",
      "-- Epoch 63\n",
      "Norm: 9.97, NNZs: 1, Bias: 0.363540, T: 252, Avg. loss: 0.018372\n",
      "Total training time: 0.00 seconds.\n",
      "-- Epoch 64\n",
      "Norm: 9.96, NNZs: 1, Bias: 0.356606, T: 256, Avg. loss: 0.017071\n",
      "Total training time: 0.00 seconds.\n",
      "-- Epoch 65\n",
      "Norm: 9.97, NNZs: 1, Bias: 0.351739, T: 260, Avg. loss: 0.017160\n",
      "Total training time: 0.00 seconds.\n",
      "-- Epoch 66\n",
      "Norm: 9.96, NNZs: 1, Bias: 0.345116, T: 264, Avg. loss: 0.015926\n",
      "Total training time: 0.00 seconds.\n",
      "-- Epoch 67\n",
      "Norm: 9.97, NNZs: 1, Bias: 0.340421, T: 268, Avg. loss: 0.016038\n",
      "Total training time: 0.00 seconds.\n",
      "-- Epoch 68\n",
      "Norm: 9.96, NNZs: 1, Bias: 0.334091, T: 272, Avg. loss: 0.014869\n",
      "Total training time: 0.00 seconds.\n",
      "-- Epoch 69\n",
      "Norm: 9.97, NNZs: 1, Bias: 0.329561, T: 276, Avg. loss: 0.015000\n",
      "Total training time: 0.00 seconds.\n",
      "-- Epoch 70\n",
      "Norm: 9.97, NNZs: 1, Bias: 0.323507, T: 280, Avg. loss: 0.013891\n",
      "Total training time: 0.00 seconds.\n",
      "-- Epoch 71\n",
      "Norm: 9.97, NNZs: 1, Bias: 0.319133, T: 284, Avg. loss: 0.014037\n",
      "Total training time: 0.00 seconds.\n",
      "-- Epoch 72\n",
      "Norm: 9.97, NNZs: 1, Bias: 0.313340, T: 288, Avg. loss: 0.012987\n",
      "Total training time: 0.00 seconds.\n",
      "-- Epoch 73\n",
      "Norm: 9.97, NNZs: 1, Bias: 0.309117, T: 292, Avg. loss: 0.013144\n",
      "Total training time: 0.00 seconds.\n",
      "Convergence after 73 epochs took 0.00 seconds\n"
     ]
    },
    {
     "data": {
      "text/plain": [
       "SGDRegressor(eta0=0.074, max_iter=5000, random_state=213, verbose=1)"
      ]
     },
     "execution_count": 124,
     "metadata": {},
     "output_type": "execute_result"
    }
   ],
   "source": [
    "# 학습\n",
    "sgd_model.fit(data[['시간']], data['성적'])\n",
    "# norm = a, bias = b\n",
    "# loss = cost = mse = 오차"
   ]
  },
  {
   "cell_type": "code",
   "execution_count": 45,
   "id": "8f93e096",
   "metadata": {},
   "outputs": [],
   "source": [
    "# 경사하강은 a, b를 갱신하는데 오차가 점점 작아지는 방향으로 학습함"
   ]
  },
  {
   "cell_type": "code",
   "execution_count": 125,
   "id": "522bfb31",
   "metadata": {},
   "outputs": [
    {
     "data": {
      "text/plain": [
       "array([70.11861049])"
      ]
     },
     "execution_count": 125,
     "metadata": {},
     "output_type": "execute_result"
    }
   ],
   "source": [
    "# 예측\n",
    "sgd_model.predict([[7]])\n",
    "\n",
    "# 회귀는 결과의 미묘한 차이를 무시해도 좋다"
   ]
  },
  {
   "cell_type": "code",
   "execution_count": 126,
   "id": "a52c0c68",
   "metadata": {},
   "outputs": [
    {
     "data": {
      "text/plain": [
       "0.9999641404327458"
      ]
     },
     "execution_count": 126,
     "metadata": {},
     "output_type": "execute_result"
    }
   ],
   "source": [
    "# 평가\n",
    "# 예측 확률\n",
    "# r2_score\n",
    "# R2\n",
    "# R-Squared\n",
    "# 1에 가까울수록 데이터 포이트를 잘 나타내고 있다\n",
    "# 0에 가까울수록 형편없다는 뜻\n",
    "sgd_model.score(data[['시간']], data['성적'])"
   ]
  },
  {
   "cell_type": "code",
   "execution_count": null,
   "id": "ab404557",
   "metadata": {},
   "outputs": [],
   "source": []
  },
  {
   "cell_type": "code",
   "execution_count": null,
   "id": "c1b5a56b",
   "metadata": {},
   "outputs": [],
   "source": []
  },
  {
   "cell_type": "code",
   "execution_count": null,
   "id": "3347addc",
   "metadata": {},
   "outputs": [],
   "source": []
  },
  {
   "cell_type": "code",
   "execution_count": null,
   "id": "f6e67ec9",
   "metadata": {},
   "outputs": [],
   "source": []
  },
  {
   "cell_type": "code",
   "execution_count": null,
   "id": "a18bc10b",
   "metadata": {},
   "outputs": [],
   "source": []
  }
 ],
 "metadata": {
  "kernelspec": {
   "display_name": "Python 3 (ipykernel)",
   "language": "python",
   "name": "python3"
  },
  "language_info": {
   "codemirror_mode": {
    "name": "ipython",
    "version": 3
   },
   "file_extension": ".py",
   "mimetype": "text/x-python",
   "name": "python",
   "nbconvert_exporter": "python",
   "pygments_lexer": "ipython3",
   "version": "3.9.12"
  }
 },
 "nbformat": 4,
 "nbformat_minor": 5
}
